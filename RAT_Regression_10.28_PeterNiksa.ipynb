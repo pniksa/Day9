{
 "cells": [
  {
   "cell_type": "markdown",
   "metadata": {},
   "source": [
    "Linear Regression: What is it?\n",
    "Linear Regression allows us to develop a functional approximation of a dataset where the parameters of the functions are linearly dependent on functions of the dataset variables i.e. $M\\cdot\\alpha=\\gamma$, where $M$ is some tensor in the indices of $\\alpha$ and $\\beta$, $\\alpha$ is a coefficient tensor and $\\gamma$ is some tensor that depends on the dataset.\n",
    "One particular example is a first order polynom that has two coefficients $b$ and $m$ and the function is $f(x)=m*x+b$.\n",
    "\n",
    "Multiple Regression:\n",
    "Describes regression methods for which the data-set $X$ on which a potentially dependent variable $y$ is related to is multi-dimensional, i.e. the case for which the above linear regression would have more complex tensors.\n",
    "In general, although with a different name, $y$ can also be multi-dimensional.\n",
    "These types of regression can be linear but also non-linear."
   ]
  }
 ],
 "metadata": {
  "kernelspec": {
   "display_name": "Python 3",
   "language": "python",
   "name": "python3"
  },
  "language_info": {
   "codemirror_mode": {
    "name": "ipython",
    "version": 3
   },
   "file_extension": ".py",
   "mimetype": "text/x-python",
   "name": "python",
   "nbconvert_exporter": "python",
   "pygments_lexer": "ipython3",
   "version": "3.7.3"
  }
 },
 "nbformat": 4,
 "nbformat_minor": 2
}
